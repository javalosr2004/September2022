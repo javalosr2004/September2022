{
 "cells": [
  {
   "cell_type": "code",
   "execution_count": null,
   "metadata": {},
   "outputs": [],
   "source": [
    "import matplotlib as mpl\n",
    "import matplotlib.pyplot as plt\n",
    "import numpy as np"
   ]
  },
  {
   "cell_type": "code",
   "execution_count": null,
   "metadata": {},
   "outputs": [],
   "source": [
    "fig, ax = plt.subplots()\n",
    "\n",
    "x_points = np.array([0, 5, 15])\n",
    "y_points = np.array([0, 250, 500])\n",
    "ax.plot(x_points, y_points, marker = 'o') # set markers\n",
    "\n",
    "ax.set_title('Annual Minimum Wage In California')\n",
    "\n",
    "\n"
   ]
  },
  {
   "cell_type": "code",
   "execution_count": null,
   "metadata": {},
   "outputs": [],
   "source": [
    "fig, ax = plt.subplots()\n",
    "\n",
    "x_points = np.array([0, 5, 15])\n",
    "y_points = np.array([0, 250, 500])\n",
    "ax.plot(x_points, y_points, 'o--m', ms=10) #custom format o marker, -- dashed line, magneta color\n",
    "\n",
    "#ms stands for marker size, \n",
    "\n",
    "ax.set_title('Annual Minimum Wage In California')\n"
   ]
  },
  {
   "cell_type": "code",
   "execution_count": null,
   "metadata": {},
   "outputs": [],
   "source": [
    "fig, ax = plt.subplots()\n",
    "\n",
    "x_points = np.array([0, 5, 15])\n",
    "y_points = np.array([0, 250, 500])\n",
    "ax.plot(x_points, y_points, 'o--m', ms=10, mfc = '#4CAF50', mec = '#4CAF50') #you can change the color of the marker using marker face color, or mfc, you can use hexadecimal\n",
    "\n",
    "#ms stands for marker size, \n",
    "\n",
    "ax.set_title('Annual Minimum Wage In California')\n"
   ]
  },
  {
   "cell_type": "code",
   "execution_count": null,
   "metadata": {},
   "outputs": [],
   "source": [
    "x = np.array([80, 85, 90, 95, 100, 105, 110, 115, 120, 125])\n",
    "y = np.array([240, 250, 260, 270, 280, 290, 300, 310, 320, 330])\n",
    "\n",
    "font1 = {'family':'serif','color':'blue','size':20} #sets the font\n",
    "font2 = {'family':'serif','color':'darkred','size':15}\n",
    "\n",
    "plt.title(\"Sports Watch Data\", fontdict = font1)\n",
    "plt.xlabel(\"Average Pulse\", fontdict = font2)\n",
    "plt.ylabel(\"Calorie Burnage\", fontdict = font2)\n",
    "\n",
    "plt.plot(x, y)\n",
    "plt.show()"
   ]
  },
  {
   "cell_type": "code",
   "execution_count": null,
   "metadata": {},
   "outputs": [],
   "source": [
    "x = np.array([80, 85, 90, 95, 100, 105, 110, 115, 120, 125])\n",
    "y = np.array([240, 250, 260, 270, 280, 290, 300, 310, 320, 330])\n",
    "\n",
    "font1 = {'family':'serif','color':'blue','size':20} #sets the font\n",
    "font2 = {'family':'serif','color':'darkred','size':15}\n",
    "\n",
    "plt.title(\"Sports Watch Data\", fontdict = font1, loc='left') #change location of title\n",
    "plt.xlabel(\"Average Pulse\", fontdict = font2)\n",
    "plt.ylabel(\"Calorie Burnage\", fontdict = font2)\n",
    "\n",
    "plt.grid(axis = 'y') # by default will be set to both\n",
    "plt.grid(axis = 'both', color = 'g', linestyle='--', linewidth=0.5) # by default will be set to both\n",
    "\n",
    "\n",
    "plt.plot(x, y)\n",
    "\n",
    "plt.savefig('foo.pdf', bbox_inches='tight')\n",
    "plt.show()"
   ]
  },
  {
   "cell_type": "markdown",
   "metadata": {},
   "source": [
    "# making subplots\n",
    "\n",
    "### 1st example. vertical formation"
   ]
  },
  {
   "cell_type": "code",
   "execution_count": null,
   "metadata": {},
   "outputs": [],
   "source": [
    "x1 = np.array([0, 1, 2, 3])\n",
    "y1 = np.array([5, 10, 15, 20])\n",
    "\n",
    "plt.subplot(1, 2, 1) #rows, columns, index\n",
    "plt.plot(x1, y1)\n",
    "\n",
    "x2 = np.array([0, 1, 2, 3])\n",
    "y2 = np.array([10, 20, 30, 40])\n",
    "plt.subplot(1, 2, 2)\n",
    "plt.plot(x2, y2)\n",
    "\n",
    "\n"
   ]
  },
  {
   "cell_type": "markdown",
   "metadata": {},
   "source": [
    "### 2nd example. horizontal formation"
   ]
  },
  {
   "cell_type": "code",
   "execution_count": 64,
   "metadata": {},
   "outputs": [
    {
     "data": {
      "text/plain": [
       "Text(0.5, 0.98, 'MY STORE')"
      ]
     },
     "execution_count": 64,
     "metadata": {},
     "output_type": "execute_result"
    },
    {
     "data": {
      "image/png": "[encoded data removed]",
      "text/plain": [
       "<Figure size 432x288 with 2 Axes>"
      ]
     },
     "metadata": {
      "needs_background": "light"
     },
     "output_type": "display_data"
    }
   ],
   "source": [
    "x1 = np.array([0, 1, 2, 3])\n",
    "y1 = np.array([5, 10, 15, 20])\n",
    "\n",
    "plt.subplot(1, 2, 2) #rows, columns, index\n",
    "plt.plot(x1, y1)\n",
    "plt.title('PROFIT')\n",
    "\n",
    "x2 = np.array([0, 1, 2, 3])\n",
    "y2 = np.array([10, 20, 30, 40])\n",
    "plt.subplot(1, 2, 1)\n",
    "plt.plot(x2, y2)\n",
    "plt.title('SALES')\n",
    "\n",
    "plt.suptitle('MY STORE')\n"
   ]
  }
 ],
 "metadata": {
  "kernelspec": {
   "display_name": "Python 3.10.6 64-bit",
   "language": "python",
   "name": "python3"
  },
  "language_info": {
   "name": "python",
   "version": "3.10.6"
  },
  "orig_nbformat": 4,
  "vscode": {
   "interpreter": {
    "hash": "b0fa6594d8f4cbf19f97940f81e996739fb7646882a419484c72d19e05852a7e"
   }
  }
 },
 "nbformat": 4,
 "nbformat_minor": 2
}
