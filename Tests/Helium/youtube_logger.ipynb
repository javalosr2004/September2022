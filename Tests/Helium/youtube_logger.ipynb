{
 "cells": [
  {
   "cell_type": "code",
   "execution_count": 1,
   "metadata": {},
   "outputs": [
    {
     "name": "stdout",
     "output_type": "stream",
     "text": [
      "Skipping cache:\n"
     ]
    }
   ],
   "source": [
    "import helium, logging\n",
    "import sys, pyperclip, re, time, json\n",
    "\n",
    "\n",
    "from bs4 import BeautifulSoup\n",
    "\n",
    "log_info = logging.basicConfig(level=logging.INFO)\n",
    "\n",
    "user_link = []\n",
    "data = {}\n",
    "skip_cache = False\n",
    "data_cache = {}\n",
    "\n",
    "\n",
    "\n",
    "#getting command line arguments or asking for input\n",
    "if len(sys.argv) > 1:\n",
    "    if sys.argv[1] == '-c':\n",
    "        print('Copying all links')\n",
    "        all_links = pyperclip.paste()\n",
    "        cleanString = re.sub(',',' ', all_links)\n",
    "        user_link.extend(cleanString.split())\n",
    "    if sys.argv[1] or sys.argv[2] == '-s':\n",
    "        print('Skipping cache:')\n",
    "        skip_cache = True\n",
    "    else:\n",
    "        print('Copying one link:')\n",
    "        user_link.append(sys.argv[1])\n",
    "        print(f'Link: {user_link[0]}')\n",
    "else:\n",
    "    user_link.append(input('Enter link: '))"
   ]
  }
 ],
 "metadata": {
  "kernelspec": {
   "display_name": "Python 3.10.6 64-bit",
   "language": "python",
   "name": "python3"
  },
  "language_info": {
   "codemirror_mode": {
    "name": "ipython",
    "version": 3
   },
   "file_extension": ".py",
   "mimetype": "text/x-python",
   "name": "python",
   "nbconvert_exporter": "python",
   "pygments_lexer": "ipython3",
   "version": "3.10.6"
  },
  "orig_nbformat": 4,
  "vscode": {
   "interpreter": {
    "hash": "b0fa6594d8f4cbf19f97940f81e996739fb7646882a419484c72d19e05852a7e"
   }
  }
 },
 "nbformat": 4,
 "nbformat_minor": 2
}
