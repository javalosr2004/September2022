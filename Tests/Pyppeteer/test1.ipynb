{
 "cells": [
  {
   "cell_type": "code",
   "execution_count": 5,
   "metadata": {},
   "outputs": [
    {
     "name": "stderr",
     "output_type": "stream",
     "text": [
      "/opt/homebrew/lib/python3.10/site-packages/pyppeteer/util.py:29: RuntimeWarning: coroutine 'main' was never awaited\n",
      "  gc.collect()\n",
      "RuntimeWarning: Enable tracemalloc to get the object allocation traceback\n",
      "/var/folders/mr/p559qb9s26l6jg58226sjss80000gn/T/ipykernel_28103/3411947876.py:9: RuntimeWarning: coroutine 'Browser.close' was never awaited\n",
      "  browser.close()\n",
      "RuntimeWarning: Enable tracemalloc to get the object allocation traceback\n"
     ]
    }
   ],
   "source": [
    "import pyppeteer, asyncio\n",
    "\n",
    "async def main():\n",
    "    browser = await pyppeteer.launch(headless = False)\n",
    "    page = await browser.newPage()\n",
    "\n",
    "    await page.goto('https://www.google.com')\n",
    "    key = await input('Press any key to continue')\n",
    "    await page.close()\n",
    "\n",
    "    browser.close()\n",
    "\n",
    "await main()\n"
   ]
  }
 ],
 "metadata": {
  "kernelspec": {
   "display_name": "Python 3.10.6 64-bit",
   "language": "python",
   "name": "python3"
  },
  "language_info": {
   "codemirror_mode": {
    "name": "ipython",
    "version": 3
   },
   "file_extension": ".py",
   "mimetype": "text/x-python",
   "name": "python",
   "nbconvert_exporter": "python",
   "pygments_lexer": "ipython3",
   "version": "3.10.6"
  },
  "orig_nbformat": 4,
  "vscode": {
   "interpreter": {
    "hash": "b0fa6594d8f4cbf19f97940f81e996739fb7646882a419484c72d19e05852a7e"
   }
  }
 },
 "nbformat": 4,
 "nbformat_minor": 2
}
