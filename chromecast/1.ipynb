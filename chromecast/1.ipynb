{
 "cells": [
  {
   "cell_type": "code",
   "execution_count": 1,
   "metadata": {},
   "outputs": [],
   "source": [
    "import pychromecast\n"
   ]
  },
  {
   "cell_type": "code",
   "execution_count": 14,
   "metadata": {},
   "outputs": [],
   "source": [
    "\n",
    "chromecasts = pychromecast.get_chromecasts()\n"
   ]
  },
  {
   "cell_type": "code",
   "execution_count": 18,
   "metadata": {},
   "outputs": [
    {
     "data": {
      "text/plain": [
       "{UUID('75dd856b-7881-26f0-f2e2-1f23b3d79232'): CastInfo(services={ServiceInfo(type='host', data=('192.168.1.10', 8009)), ServiceInfo(type='mdns', data='D32f-G1-75dd856b788126f0f2e21f23b3d79232._googlecast._tcp.local.')}, uuid=UUID('75dd856b-7881-26f0-f2e2-1f23b3d79232'), model_name='D32f-G1', friendly_name='Jessie', host='192.168.1.10', port=8009, cast_type='cast', manufacturer='Vizio'),\n",
       " UUID('04f17051-f48e-5ae8-bdfd-92f56fc04f70'): CastInfo(services={ServiceInfo(type='host', data=('192.168.1.3', 8009)), ServiceInfo(type='mdns', data='Chromecast-04f17051f48e5ae8bdfd92f56fc04f70._googlecast._tcp.local.')}, uuid=UUID('04f17051-f48e-5ae8-bdfd-92f56fc04f70'), model_name='Chromecast', friendly_name='Kirby TV', host='192.168.1.3', port=8009, cast_type='cast', manufacturer='Google Inc.')}"
      ]
     },
     "execution_count": 18,
     "metadata": {},
     "output_type": "execute_result"
    }
   ],
   "source": [
    "chromecasts[1]."
   ]
  },
  {
   "cell_type": "code",
   "execution_count": 13,
   "metadata": {},
   "outputs": [
    {
     "data": {
      "text/plain": [
       "[]"
      ]
     },
     "execution_count": 13,
     "metadata": {},
     "output_type": "execute_result"
    }
   ],
   "source": []
  }
 ],
 "metadata": {
  "kernelspec": {
   "display_name": "Python 3.10.6 64-bit",
   "language": "python",
   "name": "python3"
  },
  "language_info": {
   "codemirror_mode": {
    "name": "ipython",
    "version": 3
   },
   "file_extension": ".py",
   "mimetype": "text/x-python",
   "name": "python",
   "nbconvert_exporter": "python",
   "pygments_lexer": "ipython3",
   "version": "3.10.6"
  },
  "orig_nbformat": 4,
  "vscode": {
   "interpreter": {
    "hash": "b0fa6594d8f4cbf19f97940f81e996739fb7646882a419484c72d19e05852a7e"
   }
  }
 },
 "nbformat": 4,
 "nbformat_minor": 2
}
